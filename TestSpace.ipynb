{
 "cells": [
  {
   "cell_type": "code",
   "execution_count": 4,
   "metadata": {},
   "outputs": [
    {
     "name": "stdout",
     "output_type": "stream",
     "text": [
      "148\n"
     ]
    }
   ],
   "source": [
    "from pyquery import PyQuery as pq\n",
    "doc=pq(\"\"\"<!DOCTYPE html>\n",
    "<html>\n",
    "<head>\n",
    "<style>\n",
    ".cities {\n",
    "    background-color:black;\n",
    "    color:white;\n",
    "    margin:20px;\n",
    "    padding:20px;\n",
    "} \n",
    "</style>\n",
    "</head>\n",
    "\n",
    "<body>\n",
    "\n",
    "<div class=\"cities\">\n",
    "<h2>London</h2>\n",
    "<p>London is the capital city of England. \n",
    "It is the most populous city in the United Kingdom, \n",
    "with a metropolitan area of over 13 million inhabitants.</p>\n",
    "</div>\n",
    "<span id=\"count\">148</span>\n",
    "<div class=\"cities\">\n",
    "<h2>Paris</h2>\n",
    "<p>Paris is the capital and most populous city of France.</p>\n",
    "</div>\n",
    "\n",
    "<div class=\"cities\">\n",
    "<h2>Tokyo</h2>\n",
    "<p>Tokyo is the capital of Japan, the center of the Greater Tokyo Area,\n",
    "and the most populous metropolitan area in the world.</p>\n",
    "</div>\n",
    "\n",
    "</body>\n",
    "</html>\"\"\")\n",
    "print(doc('#count').text())"
   ]
  },
  {
   "cell_type": "code",
   "execution_count": null,
   "metadata": {},
   "outputs": [],
   "source": []
  }
 ],
 "metadata": {
  "kernelspec": {
   "display_name": "Python 3",
   "language": "python",
   "name": "python3"
  },
  "language_info": {
   "codemirror_mode": {
    "name": "ipython",
    "version": 3
   },
   "file_extension": ".py",
   "mimetype": "text/x-python",
   "name": "python",
   "nbconvert_exporter": "python",
   "pygments_lexer": "ipython3",
   "version": "3.6.5"
  }
 },
 "nbformat": 4,
 "nbformat_minor": 2
}
