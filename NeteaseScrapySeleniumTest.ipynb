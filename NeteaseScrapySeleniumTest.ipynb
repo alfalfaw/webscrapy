{
 "cells": [
  {
   "cell_type": "code",
   "execution_count": 1,
   "metadata": {},
   "outputs": [
    {
     "name": "stdout",
     "output_type": "stream",
     "text": [
      "Start parsing...\n",
      "\n"
     ]
    }
   ],
   "source": [
    "import pymongo\n",
    "from selenium import webdriver\n",
    "from selenium.common.exceptions import TimeoutException\n",
    "from selenium.webdriver.common.by import By\n",
    "from selenium.webdriver.support import expected_conditions as EC\n",
    "from selenium.webdriver.support.wait import WebDriverWait\n",
    "from pyquery import PyQuery as pq\n",
    "from urllib.parse import quote\n",
    "import re\n",
    "from lxml import etree\n",
    "import time\n",
    "\n",
    "# chrome_options = webdriver.ChromeOptions()\n",
    "# chrome_options.add_argument('--headless')\n",
    "# browser = webdriver.Chrome(chrome_options=chrome_options)\n",
    "browser=webdriver.Chrome()\n",
    "wait = WebDriverWait(browser, 10)\n",
    "cookies={\n",
    "    'MUSIC_U':'b2fb56bbf9b6405a541fb33df0c31bee0797a93715a0ac7407e2e781c374e43c5fd8fea083cec0359931f057125a01e1b4c6e05649d650bf',\n",
    "    '__remember_me':'true'\n",
    "}\n",
    "\n",
    "def parse_user():\n",
    "    print(\"Start parsing...\")\n",
    "    doc=pq(browser.page_source)\n",
    "    \n",
    "    print(doc('tit'))\n",
    "       \n",
    "        \n",
    "        \n",
    "        \n",
    "def main():\n",
    "    try:\n",
    "        url='https://music.163.com/#/user/home?id=119231969'\n",
    "       \n",
    "        browser.get(url)\n",
    "        for k,v in cookies.items():\n",
    "            browser.add_cookie({\n",
    "            'domain': '.music.163.com', \n",
    "            'name': k,\n",
    "            'value': v,\n",
    "            'path': '/',\n",
    "            'expires': None\n",
    "            })\n",
    "        browser.refresh()\n",
    "        time.sleep(2)\n",
    "#         wait.until(EC.presence_of_element_located((By.CSS_SELECTOR, 'span.tit.f-ff2.s-fc0.f-thide')))\n",
    "        \n",
    "        parse_user()\n",
    "        browser.close()\n",
    "    except TimeoutException:\n",
    "        main()\n",
    "        \n",
    "if __name__ == '__main__':\n",
    "    main()"
   ]
  },
  {
   "cell_type": "code",
   "execution_count": null,
   "metadata": {},
   "outputs": [],
   "source": []
  },
  {
   "cell_type": "code",
   "execution_count": null,
   "metadata": {},
   "outputs": [],
   "source": []
  },
  {
   "cell_type": "code",
   "execution_count": null,
   "metadata": {},
   "outputs": [],
   "source": []
  }
 ],
 "metadata": {
  "kernelspec": {
   "display_name": "Python 3",
   "language": "python",
   "name": "python3"
  },
  "language_info": {
   "codemirror_mode": {
    "name": "ipython",
    "version": 3
   },
   "file_extension": ".py",
   "mimetype": "text/x-python",
   "name": "python",
   "nbconvert_exporter": "python",
   "pygments_lexer": "ipython3",
   "version": "3.6.5"
  }
 },
 "nbformat": 4,
 "nbformat_minor": 2
}
